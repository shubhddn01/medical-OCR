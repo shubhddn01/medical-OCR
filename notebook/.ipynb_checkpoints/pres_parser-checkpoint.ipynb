{
 "cells": [
  {
   "cell_type": "code",
   "execution_count": 1,
   "id": "1c9b5827-73e4-42e3-894a-38f9f65946e1",
   "metadata": {},
   "outputs": [],
   "source": [
    "from pdf2image import convert_from_path"
   ]
  },
  {
   "cell_type": "code",
   "execution_count": 4,
   "id": "2bd22ba8-c098-49da-b9bb-6c0d49a0b9b8",
   "metadata": {},
   "outputs": [
    {
     "ename": "NameError",
     "evalue": "name 'read' is not defined",
     "output_type": "error",
     "traceback": [
      "\u001b[0;31m---------------------------------------------------------------------------\u001b[0m",
      "\u001b[0;31mNameError\u001b[0m                                 Traceback (most recent call last)",
      "Cell \u001b[0;32mIn[4], line 1\u001b[0m\n\u001b[0;32m----> 1\u001b[0m pages \u001b[38;5;241m=\u001b[39m convert_from_path(\u001b[38;5;124mr\u001b[39m\u001b[38;5;124m'\u001b[39m\u001b[38;5;124m../4_project_medical_data_extraction/docs/prescription/pre_1.pdf\u001b[39m\u001b[38;5;124m'\u001b[39m,\u001b[43mread\u001b[49m())\n",
      "\u001b[0;31mNameError\u001b[0m: name 'read' is not defined"
     ]
    }
   ],
   "source": [
    "pages = convert_from_path(r'../4_project_medical_data_extraction/docs/prescription/pre_1.pdf',read())\n"
   ]
  },
  {
   "cell_type": "code",
   "execution_count": null,
   "id": "eb8a4cc0-efa3-42e8-9deb-67f372f60c1b",
   "metadata": {},
   "outputs": [],
   "source": [
    "page"
   ]
  }
 ],
 "metadata": {
  "kernelspec": {
   "display_name": "Python 3 (ipykernel)",
   "language": "python",
   "name": "python3"
  },
  "language_info": {
   "codemirror_mode": {
    "name": "ipython",
    "version": 3
   },
   "file_extension": ".py",
   "mimetype": "text/x-python",
   "name": "python",
   "nbconvert_exporter": "python",
   "pygments_lexer": "ipython3",
   "version": "3.8.10"
  }
 },
 "nbformat": 4,
 "nbformat_minor": 5
}
